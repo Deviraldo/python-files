{
 "cells": [
  {
   "cell_type": "code",
   "execution_count": 2,
   "id": "c4f37105-0d64-43d0-9d2a-96ccd3191087",
   "metadata": {},
   "outputs": [
    {
     "name": "stdout",
     "output_type": "stream",
     "text": [
      "Starting python in this new laptop\n"
     ]
    }
   ],
   "source": [
    "print(\"Starting python in this new laptop\")"
   ]
  },
  {
   "cell_type": "code",
   "execution_count": 1,
   "id": "541bad40",
   "metadata": {},
   "outputs": [
    {
     "name": "stdout",
     "output_type": "stream",
     "text": [
      "Learning ML\n"
     ]
    }
   ],
   "source": [
    "print(\"Learning ML\")"
   ]
  },
  {
   "cell_type": "code",
   "execution_count": null,
   "id": "3d894019",
   "metadata": {},
   "outputs": [],
   "source": []
  }
 ],
 "metadata": {
  "kernelspec": {
   "display_name": "Python 3",
   "language": "python",
   "name": "python3"
  },
  "language_info": {
   "codemirror_mode": {
    "name": "ipython",
    "version": 3
   },
   "file_extension": ".py",
   "mimetype": "text/x-python",
   "name": "python",
   "nbconvert_exporter": "python",
   "pygments_lexer": "ipython3",
   "version": "3.13.7"
  }
 },
 "nbformat": 4,
 "nbformat_minor": 5
}
